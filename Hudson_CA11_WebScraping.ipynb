{
 "cells": [
  {
   "cell_type": "markdown",
   "metadata": {},
   "source": [
    "## INFT 2067 - Data Acquisition and Wrangling\n",
    "\n",
    "Assessment: **CA 1.1: Web Scraping**<br>\n",
    "Due Date: Monday, 29 January 2024<br>\n",
    "<br>\n",
    "Student: Michael Hudson<br>\n",
    "Python version: 3.11.2<br>\n",
    "Operating System: Windows 11 Pro (version 22H2, OS build 22621.1992)\n",
    "\n",
    "---"
   ]
  },
  {
   "cell_type": "markdown",
   "metadata": {},
   "source": [
    "First install the required libraries. For example, in the terminal:<br>\n",
    "pip install requests<br>\n",
    "pip install beautifulsoup4<br>\n",
    "Then import the required modules:"
   ]
  },
  {
   "cell_type": "code",
   "execution_count": 1,
   "metadata": {},
   "outputs": [],
   "source": [
    "# Built-in Modules\n",
    "import csv\n",
    "import re\n",
    "\n",
    "# External Modules\n",
    "import requests\n",
    "from bs4 import BeautifulSoup\n"
   ]
  },
  {
   "cell_type": "markdown",
   "metadata": {},
   "source": [
    "Use requests and BeautifulSoup to get the content from the websites."
   ]
  },
  {
   "cell_type": "code",
   "execution_count": 2,
   "metadata": {},
   "outputs": [],
   "source": [
    "# The website URLs. These are also contained in the accompanying text file.\n",
    "url_m = \"https://en.wikipedia.org/wiki/2023_AFL_season\"\n",
    "url_w = \"https://en.wikipedia.org/wiki/2023_AFL_Women%27s_season\"\n",
    "\n",
    "response_m = requests.get(url_m, timeout=10)\n",
    "html_m = response_m.text\n",
    "soup_m = BeautifulSoup(html_m, \"html.parser\")\n",
    "response_m.close()\n",
    "\n",
    "response_w = requests.get(url_w, timeout=10)\n",
    "html_w = response_w.text\n",
    "soup_w = BeautifulSoup(html_w, \"html.parser\")\n",
    "response_w.close()\n"
   ]
  },
  {
   "cell_type": "markdown",
   "metadata": {},
   "source": [
    "Create regex expressions that capture the round number, and the game information."
   ]
  },
  {
   "cell_type": "code",
   "execution_count": 3,
   "metadata": {},
   "outputs": [],
   "source": [
    "PATTERN_game_info = \"^\\\\n(.+day), (\\d+ .+) \\((\\d+:\\d+)\\\\xa0([a,p]m)\\)\\\\n\\\\n(.*?) \\d+.\\d+ \\((\\d+)\\)\\\\n\\\\n(.+?)\\\\n\\\\n(.*?) \\d+.\\d+ \\((\\d+)\\)\\\\n\\\\n(.*?) \\(crowd:\\\\xa0(\\d*,*\\d+)\\)\\\\n\\\\nReportStats\\\\n$\"\n",
    "\n",
    "PATTERN_round_number = \"^\\\\n\\\\n\\\\nRound (\\d+)\"\n"
   ]
  },
  {
   "cell_type": "markdown",
   "metadata": {},
   "source": [
    "Grab all the tables (each table is a round of games) on each website for the regular home and away season, and then grab the rows from each table. We end up with a list of lists. The outer list contains all the rounds of the season, and each inner list (that is, each item of the outer list) contains the round number and games information for each round."
   ]
  },
  {
   "cell_type": "code",
   "execution_count": 4,
   "metadata": {},
   "outputs": [],
   "source": [
    "# Get the rows for the men's competition\n",
    "allTables_m = soup_m.find_all(\"table\")\n",
    "allRoundRows_m = []\n",
    "\n",
    "# From inspection of the AFL web page we know the index of the first table we want\n",
    "# and that there are 24 tables of interest.\n",
    "for i in range(4, 28):\n",
    "    RoundRows = allTables_m[i].find_all(\"tr\")\n",
    "    allRoundRows_m.append(RoundRows)\n",
    "\n",
    "# Get the rows for the women's competition\n",
    "allTables_w = soup_w.find_all(\"table\")\n",
    "allRoundRows_w = []\n",
    "\n",
    "# From inspection of the AFLW web page we know the index of the first table we want\n",
    "# and that there are 10 tables of interest.\n",
    "for i in range(4, 14):\n",
    "    RoundRows = allTables_w[i].find_all(\"tr\")\n",
    "    allRoundRows_w.append(RoundRows)\n"
   ]
  },
  {
   "cell_type": "markdown",
   "metadata": {},
   "source": [
    "We are now ready to pull the data we want out of the rows. First create an empty list that can be used as a container for the scraped information, and a function to reduce code duplication."
   ]
  },
  {
   "cell_type": "code",
   "execution_count": 7,
   "metadata": {},
   "outputs": [],
   "source": [
    "# Set the valid options for the arguments of the function.\n",
    "VALID_LEAGUES = {\"men\", \"women\"}\n",
    "\n",
    "def GetData(men_or_women):\n",
    "    # Create a list container\n",
    "    data = []\n",
    "    \n",
    "    #Error checking\n",
    "    if men_or_women not in VALID_LEAGUES:\n",
    "        raise ValueError(\"Argument must be one of %r.\" % VALID_LEAGUES)\n",
    "    if men_or_women == \"men\":\n",
    "        num_rounds = 24\n",
    "        league = \"AFL-M\"\n",
    "        allRoundRows = allRoundRows_m\n",
    "    elif men_or_women == \"women\":\n",
    "        num_rounds = 10\n",
    "        league = \"AFL-W\"\n",
    "        allRoundRows = allRoundRows_w\n",
    "    else:\n",
    "        raise ValueError(\"Please enter either 'men' or 'women'\")\n",
    "    \n",
    "    # Iterate through the list of lists and extract the game information    \n",
    "    for i in range(num_rounds):\n",
    "        for row in allRoundRows[i]:\n",
    "            rowText = row.text\n",
    "            if re.search(PATTERN_round_number, rowText):\n",
    "                m2 = re.search(PATTERN_round_number, rowText)\n",
    "                roundno = m2.group(1)\n",
    "            if re.search(PATTERN_game_info, rowText):\n",
    "                m = re.search(PATTERN_game_info, rowText)\n",
    "                day = m.group(1)\n",
    "                date = m.group(2)\n",
    "                time = m.group(3) + \" \" + m.group(4)\n",
    "                team1name = m.group(5)\n",
    "                team1score = m.group(6)\n",
    "                team1_win_status = m.group(7)\n",
    "                team2name = m.group(8)\n",
    "                team2score = m.group(9)\n",
    "                location = m.group(10)\n",
    "                attendance = int(m.group(11).replace(\",\", \"\"))\n",
    "                row_list = [league, roundno, day, date, time, team1name, team1score, team1_win_status, team2name, team2score, location, attendance]\n",
    "                data.append(row_list)\n",
    "    \n",
    "    # Return the list of games information, ready for saving as csv file.            \n",
    "    return data\n",
    "                "
   ]
  },
  {
   "cell_type": "markdown",
   "metadata": {},
   "source": [
    "Use the function to prepare the data for writing to csv file. Create a header for the csv file."
   ]
  },
  {
   "cell_type": "code",
   "execution_count": 8,
   "metadata": {},
   "outputs": [],
   "source": [
    "data_m = GetData(\"men\")\n",
    "data_w = GetData(\"women\")\n",
    "\n",
    "header = [\n",
    "    \"League\",\n",
    "    \"Round\",\n",
    "    \"Day\",\n",
    "    \"Date\",\n",
    "    \"Time\",\n",
    "    \"First_Team_Name\",\n",
    "    \"First_Team_Score\",\n",
    "    \"First_Team_Win_Status\",\n",
    "    \"Second_Team_Name\",\n",
    "    \"Second_Team_Score\",\n",
    "    \"Location\",\n",
    "    \"Crowd_Attendance\"\n",
    "]"
   ]
  },
  {
   "cell_type": "markdown",
   "metadata": {},
   "source": [
    "Write the data to a csv file."
   ]
  },
  {
   "cell_type": "code",
   "execution_count": 9,
   "metadata": {},
   "outputs": [],
   "source": [
    "with open(\"ALF_Leagues_2023.csv\", \"w\", newline=\"\", encoding=\"utf-8\") as file:\n",
    "    writer = csv.writer(file)\n",
    "    writer.writerow(header)\n",
    "    writer.writerows(data_m)\n",
    "    writer.writerows(data_w)\n",
    "    \n",
    "file.close()\n"
   ]
  },
  {
   "cell_type": "markdown",
   "metadata": {},
   "source": [
    "For interest, and checking, run %whos to see information about variables used in above code."
   ]
  },
  {
   "cell_type": "code",
   "execution_count": 10,
   "metadata": {},
   "outputs": [
    {
     "name": "stdout",
     "output_type": "stream",
     "text": [
      "Variable               Type             Data/Info\n",
      "-------------------------------------------------\n",
      "BeautifulSoup          type             <class 'bs4.BeautifulSoup'>\n",
      "GetData                function         <function GetData at 0x000001CE613F1760>\n",
      "PATTERN_game_info      str              ^\\n(.+day), (\\d+ .+) \\((\\<...>*\\d+)\\)\\n\\nReportStats\\n$\n",
      "PATTERN_round_number   str              ^\\n\\n\\nRound (\\d+)\n",
      "RoundRows              ResultSet        [<tr style=\"background-co<...>p></li></ul>\\n</td></tr>]\n",
      "VALID_LEAGUES          set              {'men', 'women'}\n",
      "allRoundRows_m         list             n=24\n",
      "allRoundRows_w         list             n=10\n",
      "allTables_m            ResultSet        [<table class=\"infobox vc<...>td></tr></tbody></table>]\n",
      "allTables_w            ResultSet        [<table class=\"infobox vc<...>td></tr></tbody></table>]\n",
      "csv                    module           <module 'csv' from 'C:\\\\U<...>\\Python311\\\\Lib\\\\csv.py'>\n",
      "data_m                 list             n=207\n",
      "data_w                 list             n=90\n",
      "file                   TextIOWrapper    <_io.TextIOWrapper name='<...>ode='w' encoding='utf-8'>\n",
      "header                 list             n=12\n",
      "html_m                 str              <!DOCTYPE html>\\n<html cl<...>script>\\n</body>\\n</html>\n",
      "html_w                 str              <!DOCTYPE html>\\n<html cl<...>script>\\n</body>\\n</html>\n",
      "i                      int              13\n",
      "re                     module           <module 're' from 'C:\\\\Us<...>1\\\\Lib\\\\re\\\\__init__.py'>\n",
      "requests               module           <module 'requests' from '<...>\\\\requests\\\\__init__.py'>\n",
      "response_m             Response         <Response [200]>\n",
      "response_w             Response         <Response [200]>\n",
      "soup_m                 BeautifulSoup    <!DOCTYPE html>\\n\\n<html <...>script>\\n</body>\\n</html>\n",
      "soup_w                 BeautifulSoup    <!DOCTYPE html>\\n\\n<html <...>script>\\n</body>\\n</html>\n",
      "url_m                  str              https://en.wikipedia.org/wiki/2023_AFL_season\n",
      "url_w                  str              https://en.wikipedia.org/<...>2023_AFL_Women%27s_season\n",
      "writer                 writer           <_csv.writer object at 0x000001CE63B52500>\n"
     ]
    }
   ],
   "source": [
    "%whos\n"
   ]
  }
 ],
 "metadata": {
  "kernelspec": {
   "display_name": ".venv",
   "language": "python",
   "name": "python3"
  },
  "language_info": {
   "codemirror_mode": {
    "name": "ipython",
    "version": 3
   },
   "file_extension": ".py",
   "mimetype": "text/x-python",
   "name": "python",
   "nbconvert_exporter": "python",
   "pygments_lexer": "ipython3",
   "version": "3.11.2"
  }
 },
 "nbformat": 4,
 "nbformat_minor": 2
}
